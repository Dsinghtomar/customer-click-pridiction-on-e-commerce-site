{
  "nbformat": 4,
  "nbformat_minor": 0,
  "metadata": {
    "kernelspec": {
      "display_name": "Python 3",
      "language": "python",
      "name": "python3"
    },
    "language_info": {
      "codemirror_mode": {
        "name": "ipython",
        "version": 3
      },
      "file_extension": ".py",
      "mimetype": "text/x-python",
      "name": "python",
      "nbconvert_exporter": "python",
      "pygments_lexer": "ipython3",
      "version": "3.7.1"
    },
    "colab": {
      "name": "wns.ipynb",
      "version": "0.3.2",
      "provenance": []
    }
  },
  "cells": [
    {
      "cell_type": "code",
      "metadata": {
        "id": "eSLD0IVYstUJ",
        "colab_type": "code",
        "colab": {}
      },
      "source": [
        "import numpy as np \n",
        "import pandas as pd\n",
        "import seaborn as sns\n",
        "from sklearn.model_selection import train_test_split\n",
        "from sklearn.metrics import accuracy_score,precision_score,recall_score,roc_auc_score,confusion_matrix\n",
        "from sklearn.preprocessing import StandardScaler\n",
        "stds=StandardScaler()"
      ],
      "execution_count": 0,
      "outputs": []
    },
    {
      "cell_type": "code",
      "metadata": {
        "id": "vrvVqhP3stUW",
        "colab_type": "code",
        "colab": {}
      },
      "source": [
        "from sklearn.svm import SVC\n",
        "from sklearn.naive_bayes import GaussianNB"
      ],
      "execution_count": 0,
      "outputs": []
    },
    {
      "cell_type": "code",
      "metadata": {
        "id": "gCZDBs9astUh",
        "colab_type": "code",
        "colab": {}
      },
      "source": [
        "traindata=pd.read_csv('train.csv')\n",
        "itemdata=pd.read_csv('item_data.csv')\n",
        "#viewlog=pd.read_csv('view_log.csv')"
      ],
      "execution_count": 0,
      "outputs": []
    },
    {
      "cell_type": "code",
      "metadata": {
        "id": "v92FBsDt9w77",
        "colab_type": "code",
        "colab": {}
      },
      "source": [
        "testdata=pd.read_csv('test.csv')"
      ],
      "execution_count": 0,
      "outputs": []
    },
    {
      "cell_type": "code",
      "metadata": {
        "id": "aibbuCoestUr",
        "colab_type": "code",
        "colab": {
          "base_uri": "https://localhost:8080/",
          "height": 206
        },
        "outputId": "745b62e7-9450-4dd9-9525-920bd7905a7b"
      },
      "source": [
        "traindata.head()"
      ],
      "execution_count": 5,
      "outputs": [
        {
          "output_type": "execute_result",
          "data": {
            "text/html": [
              "<div>\n",
              "<style scoped>\n",
              "    .dataframe tbody tr th:only-of-type {\n",
              "        vertical-align: middle;\n",
              "    }\n",
              "\n",
              "    .dataframe tbody tr th {\n",
              "        vertical-align: top;\n",
              "    }\n",
              "\n",
              "    .dataframe thead th {\n",
              "        text-align: right;\n",
              "    }\n",
              "</style>\n",
              "<table border=\"1\" class=\"dataframe\">\n",
              "  <thead>\n",
              "    <tr style=\"text-align: right;\">\n",
              "      <th></th>\n",
              "      <th>impression_id</th>\n",
              "      <th>impression_time</th>\n",
              "      <th>user_id</th>\n",
              "      <th>app_code</th>\n",
              "      <th>os_version</th>\n",
              "      <th>is_4G</th>\n",
              "      <th>is_click</th>\n",
              "    </tr>\n",
              "  </thead>\n",
              "  <tbody>\n",
              "    <tr>\n",
              "      <th>0</th>\n",
              "      <td>c4ca4238a0b923820dcc509a6f75849b</td>\n",
              "      <td>15-11-2018 00:00</td>\n",
              "      <td>87862</td>\n",
              "      <td>422</td>\n",
              "      <td>old</td>\n",
              "      <td>0</td>\n",
              "      <td>0</td>\n",
              "    </tr>\n",
              "    <tr>\n",
              "      <th>1</th>\n",
              "      <td>45c48cce2e2d7fbdea1afc51c7c6ad26</td>\n",
              "      <td>15-11-2018 00:01</td>\n",
              "      <td>63410</td>\n",
              "      <td>467</td>\n",
              "      <td>latest</td>\n",
              "      <td>1</td>\n",
              "      <td>1</td>\n",
              "    </tr>\n",
              "    <tr>\n",
              "      <th>2</th>\n",
              "      <td>70efdf2ec9b086079795c442636b55fb</td>\n",
              "      <td>15-11-2018 00:02</td>\n",
              "      <td>71748</td>\n",
              "      <td>259</td>\n",
              "      <td>intermediate</td>\n",
              "      <td>1</td>\n",
              "      <td>0</td>\n",
              "    </tr>\n",
              "    <tr>\n",
              "      <th>3</th>\n",
              "      <td>8e296a067a37563370ded05f5a3bf3ec</td>\n",
              "      <td>15-11-2018 00:02</td>\n",
              "      <td>69209</td>\n",
              "      <td>244</td>\n",
              "      <td>latest</td>\n",
              "      <td>1</td>\n",
              "      <td>0</td>\n",
              "    </tr>\n",
              "    <tr>\n",
              "      <th>4</th>\n",
              "      <td>182be0c5cdcd5072bb1864cdee4d3d6e</td>\n",
              "      <td>15-11-2018 00:02</td>\n",
              "      <td>62873</td>\n",
              "      <td>473</td>\n",
              "      <td>latest</td>\n",
              "      <td>0</td>\n",
              "      <td>0</td>\n",
              "    </tr>\n",
              "  </tbody>\n",
              "</table>\n",
              "</div>"
            ],
            "text/plain": [
              "                      impression_id   impression_time  ...  is_4G  is_click\n",
              "0  c4ca4238a0b923820dcc509a6f75849b  15-11-2018 00:00  ...      0         0\n",
              "1  45c48cce2e2d7fbdea1afc51c7c6ad26  15-11-2018 00:01  ...      1         1\n",
              "2  70efdf2ec9b086079795c442636b55fb  15-11-2018 00:02  ...      1         0\n",
              "3  8e296a067a37563370ded05f5a3bf3ec  15-11-2018 00:02  ...      1         0\n",
              "4  182be0c5cdcd5072bb1864cdee4d3d6e  15-11-2018 00:02  ...      0         0\n",
              "\n",
              "[5 rows x 7 columns]"
            ]
          },
          "metadata": {
            "tags": []
          },
          "execution_count": 5
        }
      ]
    },
    {
      "cell_type": "code",
      "metadata": {
        "id": "Z_kWfBzastVG",
        "colab_type": "code",
        "colab": {
          "base_uri": "https://localhost:8080/",
          "height": 206
        },
        "outputId": "3e97481d-63e8-412e-b99a-32141926dde4"
      },
      "source": [
        "itemdata.head()"
      ],
      "execution_count": 6,
      "outputs": [
        {
          "output_type": "execute_result",
          "data": {
            "text/html": [
              "<div>\n",
              "<style scoped>\n",
              "    .dataframe tbody tr th:only-of-type {\n",
              "        vertical-align: middle;\n",
              "    }\n",
              "\n",
              "    .dataframe tbody tr th {\n",
              "        vertical-align: top;\n",
              "    }\n",
              "\n",
              "    .dataframe thead th {\n",
              "        text-align: right;\n",
              "    }\n",
              "</style>\n",
              "<table border=\"1\" class=\"dataframe\">\n",
              "  <thead>\n",
              "    <tr style=\"text-align: right;\">\n",
              "      <th></th>\n",
              "      <th>item_id</th>\n",
              "      <th>item_price</th>\n",
              "      <th>category_1</th>\n",
              "      <th>category_2</th>\n",
              "      <th>category_3</th>\n",
              "      <th>product_type</th>\n",
              "    </tr>\n",
              "  </thead>\n",
              "  <tbody>\n",
              "    <tr>\n",
              "      <th>0</th>\n",
              "      <td>26880</td>\n",
              "      <td>4602</td>\n",
              "      <td>11</td>\n",
              "      <td>35</td>\n",
              "      <td>20</td>\n",
              "      <td>3040</td>\n",
              "    </tr>\n",
              "    <tr>\n",
              "      <th>1</th>\n",
              "      <td>54939</td>\n",
              "      <td>3513</td>\n",
              "      <td>12</td>\n",
              "      <td>57</td>\n",
              "      <td>85</td>\n",
              "      <td>6822</td>\n",
              "    </tr>\n",
              "    <tr>\n",
              "      <th>2</th>\n",
              "      <td>40383</td>\n",
              "      <td>825</td>\n",
              "      <td>17</td>\n",
              "      <td>8</td>\n",
              "      <td>279</td>\n",
              "      <td>1619</td>\n",
              "    </tr>\n",
              "    <tr>\n",
              "      <th>3</th>\n",
              "      <td>8777</td>\n",
              "      <td>2355</td>\n",
              "      <td>13</td>\n",
              "      <td>58</td>\n",
              "      <td>189</td>\n",
              "      <td>5264</td>\n",
              "    </tr>\n",
              "    <tr>\n",
              "      <th>4</th>\n",
              "      <td>113705</td>\n",
              "      <td>1267</td>\n",
              "      <td>17</td>\n",
              "      <td>39</td>\n",
              "      <td>151</td>\n",
              "      <td>10239</td>\n",
              "    </tr>\n",
              "  </tbody>\n",
              "</table>\n",
              "</div>"
            ],
            "text/plain": [
              "   item_id  item_price  category_1  category_2  category_3  product_type\n",
              "0    26880        4602          11          35          20          3040\n",
              "1    54939        3513          12          57          85          6822\n",
              "2    40383         825          17           8         279          1619\n",
              "3     8777        2355          13          58         189          5264\n",
              "4   113705        1267          17          39         151         10239"
            ]
          },
          "metadata": {
            "tags": []
          },
          "execution_count": 6
        }
      ]
    },
    {
      "cell_type": "code",
      "metadata": {
        "id": "wD3BUqqFstVN",
        "colab_type": "code",
        "colab": {
          "base_uri": "https://localhost:8080/",
          "height": 206
        },
        "outputId": "c896ef21-d7dd-4e0a-e3bc-6c144d2f8c6f"
      },
      "source": [
        "testdata.head()"
      ],
      "execution_count": 7,
      "outputs": [
        {
          "output_type": "execute_result",
          "data": {
            "text/html": [
              "<div>\n",
              "<style scoped>\n",
              "    .dataframe tbody tr th:only-of-type {\n",
              "        vertical-align: middle;\n",
              "    }\n",
              "\n",
              "    .dataframe tbody tr th {\n",
              "        vertical-align: top;\n",
              "    }\n",
              "\n",
              "    .dataframe thead th {\n",
              "        text-align: right;\n",
              "    }\n",
              "</style>\n",
              "<table border=\"1\" class=\"dataframe\">\n",
              "  <thead>\n",
              "    <tr style=\"text-align: right;\">\n",
              "      <th></th>\n",
              "      <th>impression_id</th>\n",
              "      <th>impression_time</th>\n",
              "      <th>user_id</th>\n",
              "      <th>app_code</th>\n",
              "      <th>os_version</th>\n",
              "      <th>is_4G</th>\n",
              "    </tr>\n",
              "  </thead>\n",
              "  <tbody>\n",
              "    <tr>\n",
              "      <th>0</th>\n",
              "      <td>a9e7126a585a69a32bc7414e9d0c0ada</td>\n",
              "      <td>2018-12-13 07:44:00</td>\n",
              "      <td>44754</td>\n",
              "      <td>127</td>\n",
              "      <td>latest</td>\n",
              "      <td>1</td>\n",
              "    </tr>\n",
              "    <tr>\n",
              "      <th>1</th>\n",
              "      <td>caac14a5bf2ba283db7708bb34855760</td>\n",
              "      <td>2018-12-13 07:45:00</td>\n",
              "      <td>29656</td>\n",
              "      <td>44</td>\n",
              "      <td>latest</td>\n",
              "      <td>0</td>\n",
              "    </tr>\n",
              "    <tr>\n",
              "      <th>2</th>\n",
              "      <td>13f10ba306a19ce7bec2f3cae507b698</td>\n",
              "      <td>2018-12-13 07:46:00</td>\n",
              "      <td>25234</td>\n",
              "      <td>296</td>\n",
              "      <td>latest</td>\n",
              "      <td>1</td>\n",
              "    </tr>\n",
              "    <tr>\n",
              "      <th>3</th>\n",
              "      <td>39c4b4dc0e9701b55a0a4f072008fb3f</td>\n",
              "      <td>2018-12-13 07:47:00</td>\n",
              "      <td>22988</td>\n",
              "      <td>207</td>\n",
              "      <td>latest</td>\n",
              "      <td>1</td>\n",
              "    </tr>\n",
              "    <tr>\n",
              "      <th>4</th>\n",
              "      <td>bf5a572cca75f5fc67f4b14e58b11d70</td>\n",
              "      <td>2018-12-13 07:48:00</td>\n",
              "      <td>35431</td>\n",
              "      <td>242</td>\n",
              "      <td>latest</td>\n",
              "      <td>1</td>\n",
              "    </tr>\n",
              "  </tbody>\n",
              "</table>\n",
              "</div>"
            ],
            "text/plain": [
              "                      impression_id      impression_time  ...  os_version  is_4G\n",
              "0  a9e7126a585a69a32bc7414e9d0c0ada  2018-12-13 07:44:00  ...      latest      1\n",
              "1  caac14a5bf2ba283db7708bb34855760  2018-12-13 07:45:00  ...      latest      0\n",
              "2  13f10ba306a19ce7bec2f3cae507b698  2018-12-13 07:46:00  ...      latest      1\n",
              "3  39c4b4dc0e9701b55a0a4f072008fb3f  2018-12-13 07:47:00  ...      latest      1\n",
              "4  bf5a572cca75f5fc67f4b14e58b11d70  2018-12-13 07:48:00  ...      latest      1\n",
              "\n",
              "[5 rows x 6 columns]"
            ]
          },
          "metadata": {
            "tags": []
          },
          "execution_count": 7
        }
      ]
    },
    {
      "cell_type": "code",
      "metadata": {
        "id": "vrDYQDD1stVW",
        "colab_type": "code",
        "colab": {}
      },
      "source": [
        "#data1=pd.merge(traindata,viewlog)"
      ],
      "execution_count": 0,
      "outputs": []
    },
    {
      "cell_type": "code",
      "metadata": {
        "id": "bLuxtAqOstVf",
        "colab_type": "code",
        "colab": {}
      },
      "source": [
        "#data2=pd.merge(data1,itemdata)"
      ],
      "execution_count": 0,
      "outputs": []
    },
    {
      "cell_type": "code",
      "metadata": {
        "id": "jZ-7suJ-stVp",
        "colab_type": "code",
        "colab": {}
      },
      "source": [
        "#data2.head()"
      ],
      "execution_count": 0,
      "outputs": []
    },
    {
      "cell_type": "code",
      "metadata": {
        "id": "DGdU4V87stVz",
        "colab_type": "code",
        "colab": {}
      },
      "source": [
        "#data3=data2.drop(['is_click'],axis=1)\n",
        "#data3.head()"
      ],
      "execution_count": 0,
      "outputs": []
    },
    {
      "cell_type": "code",
      "metadata": {
        "id": "-NkzVVmxstV7",
        "colab_type": "code",
        "colab": {}
      },
      "source": [
        "from sklearn.preprocessing import LabelEncoder\n",
        "le = LabelEncoder()\n",
        "traindata[\"app_code\"] = le.fit_transform(traindata[\"app_code\"])\n",
        "traindata[\"user_id\"] = le.fit_transform(traindata[\"user_id\"])\n",
        "traindata[\"os_version\"] = le.fit_transform(traindata[\"os_version\"])\n",
        "traindata[\"is_4G\"] = le.fit_transform(traindata[\"is_4G\"])"
      ],
      "execution_count": 0,
      "outputs": []
    },
    {
      "cell_type": "code",
      "metadata": {
        "id": "bOOIWHZLstWA",
        "colab_type": "code",
        "colab": {}
      },
      "source": [
        "#le = LabelEncoder()\n",
        "#testdata[\"app_code\"] = le.fit_transform(testdata[\"app_code\"])\n",
        "#testdata[\"user_id\"] = le.fit_transform(testdata[\"user_id\"])"
      ],
      "execution_count": 0,
      "outputs": []
    },
    {
      "cell_type": "code",
      "metadata": {
        "id": "VgLZUWVs-cJ5",
        "colab_type": "code",
        "colab": {}
      },
      "source": [
        "testdata[\"app_code\"] = le.fit_transform(testdata[\"app_code\"])\n",
        "testdata[\"user_id\"] = le.fit_transform(testdata[\"user_id\"])\n",
        "testdata[\"os_version\"] = le.fit_transform(testdata[\"os_version\"])\n",
        "testdata[\"is_4G\"] = le.fit_transform(testdata[\"is_4G\"])"
      ],
      "execution_count": 0,
      "outputs": []
    },
    {
      "cell_type": "code",
      "metadata": {
        "id": "86sHaZg4stWG",
        "colab_type": "code",
        "colab": {}
      },
      "source": [
        "x=traindata.iloc[:,2:6].values\n",
        "y=traindata.iloc[:,6].values"
      ],
      "execution_count": 0,
      "outputs": []
    },
    {
      "cell_type": "code",
      "metadata": {
        "id": "5z45V7XoqWTQ",
        "colab_type": "code",
        "colab": {
          "base_uri": "https://localhost:8080/",
          "height": 142
        },
        "outputId": "dc93c70c-c8f3-4e69-bdef-bab2e65e5986"
      },
      "source": [
        "stds.fit_transform(x,y)"
      ],
      "execution_count": 28,
      "outputs": [
        {
          "output_type": "execute_result",
          "data": {
            "text/plain": [
              "array([[ 1.5448563 ,  1.27810283,  1.49756775, -0.75213688],\n",
              "       [ 0.63243343,  1.60857093,  0.01678284,  1.32954524],\n",
              "       [ 0.94528262,  0.06638646, -1.46400207,  1.32954524],\n",
              "       ...,\n",
              "       [ 0.85779952,  0.29456682,  1.49756775, -0.75213688],\n",
              "       [-0.989888  ,  1.01058104,  1.49756775, -0.75213688],\n",
              "       [-1.37329703,  0.6407715 ,  1.49756775,  1.32954524]])"
            ]
          },
          "metadata": {
            "tags": []
          },
          "execution_count": 28
        }
      ]
    },
    {
      "cell_type": "code",
      "metadata": {
        "id": "gHqa4UGg6kIw",
        "colab_type": "code",
        "colab": {}
      },
      "source": [
        "x_train,x_test,y_train,y_test=train_test_split(x,y)"
      ],
      "execution_count": 0,
      "outputs": []
    },
    {
      "cell_type": "code",
      "metadata": {
        "id": "axSqJfX63hog",
        "colab_type": "code",
        "colab": {}
      },
      "source": [
        "from sklearn.tree import DecisionTreeClassifier"
      ],
      "execution_count": 0,
      "outputs": []
    },
    {
      "cell_type": "code",
      "metadata": {
        "id": "PKFEmCE14on5",
        "colab_type": "code",
        "colab": {
          "base_uri": "https://localhost:8080/",
          "height": 142
        },
        "outputId": "26f027ae-985a-4741-d9ee-85faf3da3669"
      },
      "source": [
        "dt_model = DecisionTreeClassifier(criterion= 'entropy', random_state = 0, class_weight={1:9,0:1}, max_depth=100, min_samples_split=200, \n",
        "                                  )\n",
        "dt_model.fit(x_train, y_train)\n",
        "y_pred_test = dt_model.predict(x_test)\n",
        "print(\"Accuracy score for model \", accuracy_score(y_test, y_pred_test))\n",
        "confusion_mx = pd.DataFrame(confusion_matrix(y_test, y_pred_test))\n",
        "print(confusion_mx)\n",
        "probs = dt_model.predict_proba(x_test) \n",
        "probs = probs[:, 1]\n",
        "auc = roc_auc_score(y_test, probs)\n",
        "print('AUC: %.2f' % auc)\n",
        "print(\"Precision score for DT model \", precision_score(y_test, y_pred_test))\n",
        "print(\"Recall score for DT model \", recall_score(y_test, y_pred_test))"
      ],
      "execution_count": 31,
      "outputs": [
        {
          "output_type": "stream",
          "text": [
            "Accuracy score for model  0.842415366227295\n",
            "       0     1\n",
            "0  49218  7490\n",
            "1   1871   824\n",
            "AUC: 0.66\n",
            "Precision score for DT model  0.09910993504931441\n",
            "Recall score for DT model  0.3057513914656772\n"
          ],
          "name": "stdout"
        }
      ]
    },
    {
      "cell_type": "code",
      "metadata": {
        "id": "F-dB5luYAUFe",
        "colab_type": "code",
        "colab": {
          "base_uri": "https://localhost:8080/",
          "height": 124
        },
        "outputId": "2c35a998-9bd8-4a95-a4d7-6f57b8d1f422"
      },
      "source": [
        "dt_model.fit(x, y)"
      ],
      "execution_count": 32,
      "outputs": [
        {
          "output_type": "execute_result",
          "data": {
            "text/plain": [
              "DecisionTreeClassifier(class_weight={0: 1, 1: 9}, criterion='entropy',\n",
              "                       max_depth=100, max_features=None, max_leaf_nodes=None,\n",
              "                       min_impurity_decrease=0.0, min_impurity_split=None,\n",
              "                       min_samples_leaf=1, min_samples_split=200,\n",
              "                       min_weight_fraction_leaf=0.0, presort=False,\n",
              "                       random_state=0, splitter='best')"
            ]
          },
          "metadata": {
            "tags": []
          },
          "execution_count": 32
        }
      ]
    },
    {
      "cell_type": "code",
      "metadata": {
        "id": "4pIaynUi92wt",
        "colab_type": "code",
        "colab": {}
      },
      "source": [
        "test_data_X =testdata.iloc[:,2:]"
      ],
      "execution_count": 0,
      "outputs": []
    },
    {
      "cell_type": "code",
      "metadata": {
        "id": "8BuYfi5r-yqM",
        "colab_type": "code",
        "colab": {
          "base_uri": "https://localhost:8080/",
          "height": 206
        },
        "outputId": "6a646abe-c31d-4cab-af15-b0aad90546e8"
      },
      "source": [
        "test_data_X.head()"
      ],
      "execution_count": 34,
      "outputs": [
        {
          "output_type": "execute_result",
          "data": {
            "text/html": [
              "<div>\n",
              "<style scoped>\n",
              "    .dataframe tbody tr th:only-of-type {\n",
              "        vertical-align: middle;\n",
              "    }\n",
              "\n",
              "    .dataframe tbody tr th {\n",
              "        vertical-align: top;\n",
              "    }\n",
              "\n",
              "    .dataframe thead th {\n",
              "        text-align: right;\n",
              "    }\n",
              "</style>\n",
              "<table border=\"1\" class=\"dataframe\">\n",
              "  <thead>\n",
              "    <tr style=\"text-align: right;\">\n",
              "      <th></th>\n",
              "      <th>user_id</th>\n",
              "      <th>app_code</th>\n",
              "      <th>os_version</th>\n",
              "      <th>is_4G</th>\n",
              "    </tr>\n",
              "  </thead>\n",
              "  <tbody>\n",
              "    <tr>\n",
              "      <th>0</th>\n",
              "      <td>16423</td>\n",
              "      <td>94</td>\n",
              "      <td>1</td>\n",
              "      <td>1</td>\n",
              "    </tr>\n",
              "    <tr>\n",
              "      <th>1</th>\n",
              "      <td>10858</td>\n",
              "      <td>39</td>\n",
              "      <td>1</td>\n",
              "      <td>0</td>\n",
              "    </tr>\n",
              "    <tr>\n",
              "      <th>2</th>\n",
              "      <td>9213</td>\n",
              "      <td>211</td>\n",
              "      <td>1</td>\n",
              "      <td>1</td>\n",
              "    </tr>\n",
              "    <tr>\n",
              "      <th>3</th>\n",
              "      <td>8391</td>\n",
              "      <td>150</td>\n",
              "      <td>1</td>\n",
              "      <td>1</td>\n",
              "    </tr>\n",
              "    <tr>\n",
              "      <th>4</th>\n",
              "      <td>13031</td>\n",
              "      <td>171</td>\n",
              "      <td>1</td>\n",
              "      <td>1</td>\n",
              "    </tr>\n",
              "  </tbody>\n",
              "</table>\n",
              "</div>"
            ],
            "text/plain": [
              "   user_id  app_code  os_version  is_4G\n",
              "0    16423        94           1      1\n",
              "1    10858        39           1      0\n",
              "2     9213       211           1      1\n",
              "3     8391       150           1      1\n",
              "4    13031       171           1      1"
            ]
          },
          "metadata": {
            "tags": []
          },
          "execution_count": 34
        }
      ]
    },
    {
      "cell_type": "code",
      "metadata": {
        "id": "PVUCJkk64tmc",
        "colab_type": "code",
        "colab": {}
      },
      "source": [
        "test_data_pred = dt_model.predict(test_data_X)\n",
        "submission = pd.DataFrame({'impression_id':testdata.iloc[:,0], 'is_click':test_data_pred})\n",
        "submission.to_csv('submission_dt.csv', index=False)"
      ],
      "execution_count": 0,
      "outputs": []
    },
    {
      "cell_type": "code",
      "metadata": {
        "id": "UrLEWw4N0J60",
        "colab_type": "code",
        "colab": {}
      },
      "source": [
        "from sklearn.neighbors import KNeighborsClassifier\n",
        "knn= KNeighborsClassifier()"
      ],
      "execution_count": 0,
      "outputs": []
    },
    {
      "cell_type": "code",
      "metadata": {
        "id": "qIaOOqFjHsRt",
        "colab_type": "code",
        "colab": {
          "base_uri": "https://localhost:8080/",
          "height": 71
        },
        "outputId": "dc518aad-786f-456f-9c21-37d0e492b885"
      },
      "source": [
        "knn.fit(x,y)"
      ],
      "execution_count": 39,
      "outputs": [
        {
          "output_type": "execute_result",
          "data": {
            "text/plain": [
              "KNeighborsClassifier(algorithm='auto', leaf_size=30, metric='minkowski',\n",
              "                     metric_params=None, n_jobs=None, n_neighbors=5, p=2,\n",
              "                     weights='uniform')"
            ]
          },
          "metadata": {
            "tags": []
          },
          "execution_count": 39
        }
      ]
    },
    {
      "cell_type": "code",
      "metadata": {
        "id": "WNJMMT6bIBxx",
        "colab_type": "code",
        "colab": {}
      },
      "source": [
        "yknn_predict=knn.predict(test_data_X)"
      ],
      "execution_count": 0,
      "outputs": []
    },
    {
      "cell_type": "code",
      "metadata": {
        "id": "Kv68LkT1IQ8a",
        "colab_type": "code",
        "colab": {}
      },
      "source": [
        "submission = pd.DataFrame({'impression_id':testdata.iloc[:,0], 'is_click':yknn_predict})\n",
        "submission.to_csv('submission_knn.csv', index=False)"
      ],
      "execution_count": 0,
      "outputs": []
    },
    {
      "cell_type": "code",
      "metadata": {
        "id": "RGkMrH9iJ0g5",
        "colab_type": "code",
        "colab": {}
      },
      "source": [
        ""
      ],
      "execution_count": 0,
      "outputs": []
    }
  ]
}