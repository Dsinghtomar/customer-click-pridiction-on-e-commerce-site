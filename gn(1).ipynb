{
  "nbformat": 4,
  "nbformat_minor": 0,
  "metadata": {
    "colab": {
      "name": "gn.ipynb",
      "version": "0.3.2",
      "provenance": []
    },
    "kernelspec": {
      "name": "python3",
      "display_name": "Python 3"
    }
  },
  "cells": [
    {
      "cell_type": "code",
      "metadata": {
        "id": "GdqY6VOrKaQZ",
        "colab_type": "code",
        "colab": {}
      },
      "source": [
        "import numpy as np \n",
        "import pandas as pd\n",
        "import seaborn as sns\n",
        "from sklearn.model_selection import train_test_split\n",
        "from sklearn.metrics import accuracy_score,precision_score,recall_score,roc_auc_score,confusion_matrix\n",
        "from sklearn.preprocessing import StandardScaler,LabelEncoder\n",
        "stds=StandardScaler()\n",
        "lable=LabelEncoder()\n",
        "from sklearn.naive_bayes import GaussianNB\n",
        "gb=GaussianNB()"
      ],
      "execution_count": 0,
      "outputs": []
    },
    {
      "cell_type": "code",
      "metadata": {
        "id": "MtHaNGGtdBJM",
        "colab_type": "code",
        "colab": {
          "base_uri": "https://localhost:8080/",
          "height": 206
        },
        "outputId": "2929de1e-539f-41cf-e22c-9590f52f10a7"
      },
      "source": [
        "traindata=pd.read_csv('train.csv')\n",
        "traindata.head()"
      ],
      "execution_count": 3,
      "outputs": [
        {
          "output_type": "execute_result",
          "data": {
            "text/html": [
              "<div>\n",
              "<style scoped>\n",
              "    .dataframe tbody tr th:only-of-type {\n",
              "        vertical-align: middle;\n",
              "    }\n",
              "\n",
              "    .dataframe tbody tr th {\n",
              "        vertical-align: top;\n",
              "    }\n",
              "\n",
              "    .dataframe thead th {\n",
              "        text-align: right;\n",
              "    }\n",
              "</style>\n",
              "<table border=\"1\" class=\"dataframe\">\n",
              "  <thead>\n",
              "    <tr style=\"text-align: right;\">\n",
              "      <th></th>\n",
              "      <th>impression_id</th>\n",
              "      <th>impression_time</th>\n",
              "      <th>user_id</th>\n",
              "      <th>app_code</th>\n",
              "      <th>os_version</th>\n",
              "      <th>is_4G</th>\n",
              "      <th>is_click</th>\n",
              "    </tr>\n",
              "  </thead>\n",
              "  <tbody>\n",
              "    <tr>\n",
              "      <th>0</th>\n",
              "      <td>c4ca4238a0b923820dcc509a6f75849b</td>\n",
              "      <td>15-11-2018 00:00</td>\n",
              "      <td>87862</td>\n",
              "      <td>422</td>\n",
              "      <td>old</td>\n",
              "      <td>0</td>\n",
              "      <td>0</td>\n",
              "    </tr>\n",
              "    <tr>\n",
              "      <th>1</th>\n",
              "      <td>45c48cce2e2d7fbdea1afc51c7c6ad26</td>\n",
              "      <td>15-11-2018 00:01</td>\n",
              "      <td>63410</td>\n",
              "      <td>467</td>\n",
              "      <td>latest</td>\n",
              "      <td>1</td>\n",
              "      <td>1</td>\n",
              "    </tr>\n",
              "    <tr>\n",
              "      <th>2</th>\n",
              "      <td>70efdf2ec9b086079795c442636b55fb</td>\n",
              "      <td>15-11-2018 00:02</td>\n",
              "      <td>71748</td>\n",
              "      <td>259</td>\n",
              "      <td>intermediate</td>\n",
              "      <td>1</td>\n",
              "      <td>0</td>\n",
              "    </tr>\n",
              "    <tr>\n",
              "      <th>3</th>\n",
              "      <td>8e296a067a37563370ded05f5a3bf3ec</td>\n",
              "      <td>15-11-2018 00:02</td>\n",
              "      <td>69209</td>\n",
              "      <td>244</td>\n",
              "      <td>latest</td>\n",
              "      <td>1</td>\n",
              "      <td>0</td>\n",
              "    </tr>\n",
              "    <tr>\n",
              "      <th>4</th>\n",
              "      <td>182be0c5cdcd5072bb1864cdee4d3d6e</td>\n",
              "      <td>15-11-2018 00:02</td>\n",
              "      <td>62873</td>\n",
              "      <td>473</td>\n",
              "      <td>latest</td>\n",
              "      <td>0</td>\n",
              "      <td>0</td>\n",
              "    </tr>\n",
              "  </tbody>\n",
              "</table>\n",
              "</div>"
            ],
            "text/plain": [
              "                      impression_id   impression_time  ...  is_4G  is_click\n",
              "0  c4ca4238a0b923820dcc509a6f75849b  15-11-2018 00:00  ...      0         0\n",
              "1  45c48cce2e2d7fbdea1afc51c7c6ad26  15-11-2018 00:01  ...      1         1\n",
              "2  70efdf2ec9b086079795c442636b55fb  15-11-2018 00:02  ...      1         0\n",
              "3  8e296a067a37563370ded05f5a3bf3ec  15-11-2018 00:02  ...      1         0\n",
              "4  182be0c5cdcd5072bb1864cdee4d3d6e  15-11-2018 00:02  ...      0         0\n",
              "\n",
              "[5 rows x 7 columns]"
            ]
          },
          "metadata": {
            "tags": []
          },
          "execution_count": 3
        }
      ]
    },
    {
      "cell_type": "code",
      "metadata": {
        "id": "2bj4a5AsrvVO",
        "colab_type": "code",
        "colab": {
          "base_uri": "https://localhost:8080/",
          "height": 206
        },
        "outputId": "4b3d3c3f-cd53-44fb-f624-6bf421104d1d"
      },
      "source": [
        "itemdata=pd.read_csv('item_data.csv')\n",
        "itemdata.head()"
      ],
      "execution_count": 4,
      "outputs": [
        {
          "output_type": "execute_result",
          "data": {
            "text/html": [
              "<div>\n",
              "<style scoped>\n",
              "    .dataframe tbody tr th:only-of-type {\n",
              "        vertical-align: middle;\n",
              "    }\n",
              "\n",
              "    .dataframe tbody tr th {\n",
              "        vertical-align: top;\n",
              "    }\n",
              "\n",
              "    .dataframe thead th {\n",
              "        text-align: right;\n",
              "    }\n",
              "</style>\n",
              "<table border=\"1\" class=\"dataframe\">\n",
              "  <thead>\n",
              "    <tr style=\"text-align: right;\">\n",
              "      <th></th>\n",
              "      <th>item_id</th>\n",
              "      <th>item_price</th>\n",
              "      <th>category_1</th>\n",
              "      <th>category_2</th>\n",
              "      <th>category_3</th>\n",
              "      <th>product_type</th>\n",
              "    </tr>\n",
              "  </thead>\n",
              "  <tbody>\n",
              "    <tr>\n",
              "      <th>0</th>\n",
              "      <td>26880</td>\n",
              "      <td>4602</td>\n",
              "      <td>11</td>\n",
              "      <td>35</td>\n",
              "      <td>20</td>\n",
              "      <td>3040</td>\n",
              "    </tr>\n",
              "    <tr>\n",
              "      <th>1</th>\n",
              "      <td>54939</td>\n",
              "      <td>3513</td>\n",
              "      <td>12</td>\n",
              "      <td>57</td>\n",
              "      <td>85</td>\n",
              "      <td>6822</td>\n",
              "    </tr>\n",
              "    <tr>\n",
              "      <th>2</th>\n",
              "      <td>40383</td>\n",
              "      <td>825</td>\n",
              "      <td>17</td>\n",
              "      <td>8</td>\n",
              "      <td>279</td>\n",
              "      <td>1619</td>\n",
              "    </tr>\n",
              "    <tr>\n",
              "      <th>3</th>\n",
              "      <td>8777</td>\n",
              "      <td>2355</td>\n",
              "      <td>13</td>\n",
              "      <td>58</td>\n",
              "      <td>189</td>\n",
              "      <td>5264</td>\n",
              "    </tr>\n",
              "    <tr>\n",
              "      <th>4</th>\n",
              "      <td>113705</td>\n",
              "      <td>1267</td>\n",
              "      <td>17</td>\n",
              "      <td>39</td>\n",
              "      <td>151</td>\n",
              "      <td>10239</td>\n",
              "    </tr>\n",
              "  </tbody>\n",
              "</table>\n",
              "</div>"
            ],
            "text/plain": [
              "   item_id  item_price  category_1  category_2  category_3  product_type\n",
              "0    26880        4602          11          35          20          3040\n",
              "1    54939        3513          12          57          85          6822\n",
              "2    40383         825          17           8         279          1619\n",
              "3     8777        2355          13          58         189          5264\n",
              "4   113705        1267          17          39         151         10239"
            ]
          },
          "metadata": {
            "tags": []
          },
          "execution_count": 4
        }
      ]
    },
    {
      "cell_type": "code",
      "metadata": {
        "id": "FsB7mkd9spU-",
        "colab_type": "code",
        "colab": {
          "base_uri": "https://localhost:8080/",
          "height": 206
        },
        "outputId": "3b6cce50-d316-41f1-d59f-ffe0b47ac4bc"
      },
      "source": [
        "viewlog=pd.read_csv('view_log.csv')\n",
        "viewlog.head()"
      ],
      "execution_count": 5,
      "outputs": [
        {
          "output_type": "execute_result",
          "data": {
            "text/html": [
              "<div>\n",
              "<style scoped>\n",
              "    .dataframe tbody tr th:only-of-type {\n",
              "        vertical-align: middle;\n",
              "    }\n",
              "\n",
              "    .dataframe tbody tr th {\n",
              "        vertical-align: top;\n",
              "    }\n",
              "\n",
              "    .dataframe thead th {\n",
              "        text-align: right;\n",
              "    }\n",
              "</style>\n",
              "<table border=\"1\" class=\"dataframe\">\n",
              "  <thead>\n",
              "    <tr style=\"text-align: right;\">\n",
              "      <th></th>\n",
              "      <th>server_time</th>\n",
              "      <th>device_type</th>\n",
              "      <th>session_id</th>\n",
              "      <th>user_id</th>\n",
              "      <th>item_id</th>\n",
              "    </tr>\n",
              "  </thead>\n",
              "  <tbody>\n",
              "    <tr>\n",
              "      <th>0</th>\n",
              "      <td>2018-10-15 08:58:00</td>\n",
              "      <td>android</td>\n",
              "      <td>112333.0</td>\n",
              "      <td>4557.0</td>\n",
              "      <td>32970.0</td>\n",
              "    </tr>\n",
              "    <tr>\n",
              "      <th>1</th>\n",
              "      <td>2018-10-15 08:58:00</td>\n",
              "      <td>android</td>\n",
              "      <td>503590.0</td>\n",
              "      <td>74788.0</td>\n",
              "      <td>7640.0</td>\n",
              "    </tr>\n",
              "    <tr>\n",
              "      <th>2</th>\n",
              "      <td>2018-10-15 08:58:00</td>\n",
              "      <td>android</td>\n",
              "      <td>573960.0</td>\n",
              "      <td>23628.0</td>\n",
              "      <td>128855.0</td>\n",
              "    </tr>\n",
              "    <tr>\n",
              "      <th>3</th>\n",
              "      <td>2018-10-15 08:58:00</td>\n",
              "      <td>android</td>\n",
              "      <td>121691.0</td>\n",
              "      <td>2430.0</td>\n",
              "      <td>12774.0</td>\n",
              "    </tr>\n",
              "    <tr>\n",
              "      <th>4</th>\n",
              "      <td>2018-10-15 08:58:00</td>\n",
              "      <td>android</td>\n",
              "      <td>218564.0</td>\n",
              "      <td>19227.0</td>\n",
              "      <td>28296.0</td>\n",
              "    </tr>\n",
              "  </tbody>\n",
              "</table>\n",
              "</div>"
            ],
            "text/plain": [
              "           server_time device_type  session_id  user_id   item_id\n",
              "0  2018-10-15 08:58:00     android    112333.0   4557.0   32970.0\n",
              "1  2018-10-15 08:58:00     android    503590.0  74788.0    7640.0\n",
              "2  2018-10-15 08:58:00     android    573960.0  23628.0  128855.0\n",
              "3  2018-10-15 08:58:00     android    121691.0   2430.0   12774.0\n",
              "4  2018-10-15 08:58:00     android    218564.0  19227.0   28296.0"
            ]
          },
          "metadata": {
            "tags": []
          },
          "execution_count": 5
        }
      ]
    },
    {
      "cell_type": "code",
      "metadata": {
        "id": "fxVtHbqBs0xh",
        "colab_type": "code",
        "colab": {}
      },
      "source": [
        "viewitem=pd.merge(viewlog,itemdata)"
      ],
      "execution_count": 0,
      "outputs": []
    },
    {
      "cell_type": "code",
      "metadata": {
        "id": "A6UJQoCeuGOJ",
        "colab_type": "code",
        "colab": {}
      },
      "source": [
        "viewitemtrain=pd.merge(viewlog,traindata)"
      ],
      "execution_count": 0,
      "outputs": []
    },
    {
      "cell_type": "code",
      "metadata": {
        "id": "sMSlRWQNuUwS",
        "colab_type": "code",
        "colab": {
          "base_uri": "https://localhost:8080/",
          "height": 313
        },
        "outputId": "409171c8-2c40-4601-c3b7-5c1b4175d053"
      },
      "source": [
        "viewitemtrain.head()"
      ],
      "execution_count": 8,
      "outputs": [
        {
          "output_type": "execute_result",
          "data": {
            "text/html": [
              "<div>\n",
              "<style scoped>\n",
              "    .dataframe tbody tr th:only-of-type {\n",
              "        vertical-align: middle;\n",
              "    }\n",
              "\n",
              "    .dataframe tbody tr th {\n",
              "        vertical-align: top;\n",
              "    }\n",
              "\n",
              "    .dataframe thead th {\n",
              "        text-align: right;\n",
              "    }\n",
              "</style>\n",
              "<table border=\"1\" class=\"dataframe\">\n",
              "  <thead>\n",
              "    <tr style=\"text-align: right;\">\n",
              "      <th></th>\n",
              "      <th>server_time</th>\n",
              "      <th>device_type</th>\n",
              "      <th>session_id</th>\n",
              "      <th>user_id</th>\n",
              "      <th>item_id</th>\n",
              "      <th>impression_id</th>\n",
              "      <th>impression_time</th>\n",
              "      <th>app_code</th>\n",
              "      <th>os_version</th>\n",
              "      <th>is_4G</th>\n",
              "      <th>is_click</th>\n",
              "    </tr>\n",
              "  </thead>\n",
              "  <tbody>\n",
              "    <tr>\n",
              "      <th>0</th>\n",
              "      <td>2018-10-15 08:58:00</td>\n",
              "      <td>android</td>\n",
              "      <td>112333.0</td>\n",
              "      <td>4557.0</td>\n",
              "      <td>32970.0</td>\n",
              "      <td>6dd9544216149618da55e183f73e2b56</td>\n",
              "      <td>26-11-2018 14:37</td>\n",
              "      <td>213</td>\n",
              "      <td>latest</td>\n",
              "      <td>1</td>\n",
              "      <td>0</td>\n",
              "    </tr>\n",
              "    <tr>\n",
              "      <th>1</th>\n",
              "      <td>2018-10-15 08:58:00</td>\n",
              "      <td>android</td>\n",
              "      <td>112333.0</td>\n",
              "      <td>4557.0</td>\n",
              "      <td>32970.0</td>\n",
              "      <td>6ba86f2d1de0989ffbf73cc37f5825c9</td>\n",
              "      <td>26-11-2018 14:35</td>\n",
              "      <td>213</td>\n",
              "      <td>latest</td>\n",
              "      <td>1</td>\n",
              "      <td>0</td>\n",
              "    </tr>\n",
              "    <tr>\n",
              "      <th>2</th>\n",
              "      <td>2018-10-15 08:59:00</td>\n",
              "      <td>android</td>\n",
              "      <td>112333.0</td>\n",
              "      <td>4557.0</td>\n",
              "      <td>132775.0</td>\n",
              "      <td>6dd9544216149618da55e183f73e2b56</td>\n",
              "      <td>26-11-2018 14:37</td>\n",
              "      <td>213</td>\n",
              "      <td>latest</td>\n",
              "      <td>1</td>\n",
              "      <td>0</td>\n",
              "    </tr>\n",
              "    <tr>\n",
              "      <th>3</th>\n",
              "      <td>2018-10-15 08:59:00</td>\n",
              "      <td>android</td>\n",
              "      <td>112333.0</td>\n",
              "      <td>4557.0</td>\n",
              "      <td>132775.0</td>\n",
              "      <td>6ba86f2d1de0989ffbf73cc37f5825c9</td>\n",
              "      <td>26-11-2018 14:35</td>\n",
              "      <td>213</td>\n",
              "      <td>latest</td>\n",
              "      <td>1</td>\n",
              "      <td>0</td>\n",
              "    </tr>\n",
              "    <tr>\n",
              "      <th>4</th>\n",
              "      <td>2018-10-15 08:59:00</td>\n",
              "      <td>android</td>\n",
              "      <td>112333.0</td>\n",
              "      <td>4557.0</td>\n",
              "      <td>100092.0</td>\n",
              "      <td>6dd9544216149618da55e183f73e2b56</td>\n",
              "      <td>26-11-2018 14:37</td>\n",
              "      <td>213</td>\n",
              "      <td>latest</td>\n",
              "      <td>1</td>\n",
              "      <td>0</td>\n",
              "    </tr>\n",
              "  </tbody>\n",
              "</table>\n",
              "</div>"
            ],
            "text/plain": [
              "           server_time device_type  session_id  ...  os_version  is_4G is_click\n",
              "0  2018-10-15 08:58:00     android    112333.0  ...      latest      1        0\n",
              "1  2018-10-15 08:58:00     android    112333.0  ...      latest      1        0\n",
              "2  2018-10-15 08:59:00     android    112333.0  ...      latest      1        0\n",
              "3  2018-10-15 08:59:00     android    112333.0  ...      latest      1        0\n",
              "4  2018-10-15 08:59:00     android    112333.0  ...      latest      1        0\n",
              "\n",
              "[5 rows x 11 columns]"
            ]
          },
          "metadata": {
            "tags": []
          },
          "execution_count": 8
        }
      ]
    },
    {
      "cell_type": "code",
      "metadata": {
        "id": "ME_tP37VuYUW",
        "colab_type": "code",
        "colab": {}
      },
      "source": [
        "viewitemtrain[\"app_code\"] = lable.fit_transform(viewitemtrain[\"app_code\"])\n",
        "viewitemtrain[\"user_id\"] = lable.fit_transform(viewitemtrain[\"user_id\"])\n",
        "viewitemtrain[\"os_version\"] = lable.fit_transform(viewitemtrain[\"os_version\"])\n",
        "viewitemtrain[\"is_4G\"] = lable.fit_transform(viewitemtrain[\"is_4G\"])\n",
        "viewitemtrain[\"device_type\"] = lable.fit_transform(viewitemtrain[\"device_type\"])\n",
        "viewitemtrain[\"session_id\"] = lable.fit_transform(viewitemtrain[\"session_id\"])\n",
        "viewitemtrain[\"item_id\"] = lable.fit_transform(viewitemtrain[\"item_id\"])"
      ],
      "execution_count": 0,
      "outputs": []
    },
    {
      "cell_type": "code",
      "metadata": {
        "id": "v1lrDuUKvoFA",
        "colab_type": "code",
        "colab": {}
      },
      "source": [
        "x=viewitemtrain[['user_id','app_code','os_version','is_4G']]\n",
        "y=viewitemtrain[['is_click']]"
      ],
      "execution_count": 0,
      "outputs": []
    },
    {
      "cell_type": "code",
      "metadata": {
        "id": "jGjhPuNDw89S",
        "colab_type": "code",
        "colab": {}
      },
      "source": [
        "x_train,x_test,y_train,y_test=train_test_split(x,y)"
      ],
      "execution_count": 0,
      "outputs": []
    },
    {
      "cell_type": "code",
      "metadata": {
        "id": "T7z0bYC2yuFi",
        "colab_type": "code",
        "colab": {
          "base_uri": "https://localhost:8080/",
          "height": 234
        },
        "outputId": "c4e9f77f-6658-44d9-b95d-77322d5ee7e3"
      },
      "source": [
        "gb.fit(x_train, y_train)\n",
        "y_pred_test = gb.predict(x_test)\n",
        "print(\"Accuracy score for model \", accuracy_score(y_test, y_pred_test))\n",
        "confusion_mx = pd.DataFrame(confusion_matrix(y_test, y_pred_test))\n",
        "print(confusion_mx)\n",
        "probs = gb.predict_proba(x_test) \n",
        "probs = probs[:, 1]\n",
        "auc = roc_auc_score(y_test, probs)\n",
        "print('AUC: %.2f' % auc)\n",
        "print(\"Precision score for DT model \", precision_score(y_test, y_pred_test))\n",
        "print(\"Recall score for DT model \", recall_score(y_test, y_pred_test))"
      ],
      "execution_count": 38,
      "outputs": [
        {
          "output_type": "stream",
          "text": [
            "/usr/local/lib/python3.6/dist-packages/sklearn/utils/validation.py:724: DataConversionWarning: A column-vector y was passed when a 1d array was expected. Please change the shape of y to (n_samples, ), for example using ravel().\n",
            "  y = column_or_1d(y, warn=True)\n"
          ],
          "name": "stderr"
        },
        {
          "output_type": "stream",
          "text": [
            "Accuracy score for model  0.9424725821998213\n",
            "         0  1\n",
            "0  1759028  0\n",
            "1   107369  0\n",
            "AUC: 0.55\n"
          ],
          "name": "stdout"
        },
        {
          "output_type": "stream",
          "text": [
            "/usr/local/lib/python3.6/dist-packages/sklearn/metrics/classification.py:1437: UndefinedMetricWarning: Precision is ill-defined and being set to 0.0 due to no predicted samples.\n",
            "  'precision', 'predicted', average, warn_for)\n"
          ],
          "name": "stderr"
        },
        {
          "output_type": "stream",
          "text": [
            "Precision score for DT model  0.0\n",
            "Recall score for DT model  0.0\n"
          ],
          "name": "stdout"
        }
      ]
    },
    {
      "cell_type": "code",
      "metadata": {
        "id": "W-tiL-nU0RqM",
        "colab_type": "code",
        "colab": {
          "base_uri": "https://localhost:8080/",
          "height": 206
        },
        "outputId": "027f3c74-7fca-4ea7-acdd-30fd38df12b8"
      },
      "source": [
        "testdata=pd.read_csv('test.csv')\n",
        "testdata.head()"
      ],
      "execution_count": 39,
      "outputs": [
        {
          "output_type": "execute_result",
          "data": {
            "text/html": [
              "<div>\n",
              "<style scoped>\n",
              "    .dataframe tbody tr th:only-of-type {\n",
              "        vertical-align: middle;\n",
              "    }\n",
              "\n",
              "    .dataframe tbody tr th {\n",
              "        vertical-align: top;\n",
              "    }\n",
              "\n",
              "    .dataframe thead th {\n",
              "        text-align: right;\n",
              "    }\n",
              "</style>\n",
              "<table border=\"1\" class=\"dataframe\">\n",
              "  <thead>\n",
              "    <tr style=\"text-align: right;\">\n",
              "      <th></th>\n",
              "      <th>impression_id</th>\n",
              "      <th>impression_time</th>\n",
              "      <th>user_id</th>\n",
              "      <th>app_code</th>\n",
              "      <th>os_version</th>\n",
              "      <th>is_4G</th>\n",
              "    </tr>\n",
              "  </thead>\n",
              "  <tbody>\n",
              "    <tr>\n",
              "      <th>0</th>\n",
              "      <td>a9e7126a585a69a32bc7414e9d0c0ada</td>\n",
              "      <td>2018-12-13 07:44:00</td>\n",
              "      <td>44754</td>\n",
              "      <td>127</td>\n",
              "      <td>latest</td>\n",
              "      <td>1</td>\n",
              "    </tr>\n",
              "    <tr>\n",
              "      <th>1</th>\n",
              "      <td>caac14a5bf2ba283db7708bb34855760</td>\n",
              "      <td>2018-12-13 07:45:00</td>\n",
              "      <td>29656</td>\n",
              "      <td>44</td>\n",
              "      <td>latest</td>\n",
              "      <td>0</td>\n",
              "    </tr>\n",
              "    <tr>\n",
              "      <th>2</th>\n",
              "      <td>13f10ba306a19ce7bec2f3cae507b698</td>\n",
              "      <td>2018-12-13 07:46:00</td>\n",
              "      <td>25234</td>\n",
              "      <td>296</td>\n",
              "      <td>latest</td>\n",
              "      <td>1</td>\n",
              "    </tr>\n",
              "    <tr>\n",
              "      <th>3</th>\n",
              "      <td>39c4b4dc0e9701b55a0a4f072008fb3f</td>\n",
              "      <td>2018-12-13 07:47:00</td>\n",
              "      <td>22988</td>\n",
              "      <td>207</td>\n",
              "      <td>latest</td>\n",
              "      <td>1</td>\n",
              "    </tr>\n",
              "    <tr>\n",
              "      <th>4</th>\n",
              "      <td>bf5a572cca75f5fc67f4b14e58b11d70</td>\n",
              "      <td>2018-12-13 07:48:00</td>\n",
              "      <td>35431</td>\n",
              "      <td>242</td>\n",
              "      <td>latest</td>\n",
              "      <td>1</td>\n",
              "    </tr>\n",
              "  </tbody>\n",
              "</table>\n",
              "</div>"
            ],
            "text/plain": [
              "                      impression_id      impression_time  ...  os_version  is_4G\n",
              "0  a9e7126a585a69a32bc7414e9d0c0ada  2018-12-13 07:44:00  ...      latest      1\n",
              "1  caac14a5bf2ba283db7708bb34855760  2018-12-13 07:45:00  ...      latest      0\n",
              "2  13f10ba306a19ce7bec2f3cae507b698  2018-12-13 07:46:00  ...      latest      1\n",
              "3  39c4b4dc0e9701b55a0a4f072008fb3f  2018-12-13 07:47:00  ...      latest      1\n",
              "4  bf5a572cca75f5fc67f4b14e58b11d70  2018-12-13 07:48:00  ...      latest      1\n",
              "\n",
              "[5 rows x 6 columns]"
            ]
          },
          "metadata": {
            "tags": []
          },
          "execution_count": 39
        }
      ]
    },
    {
      "cell_type": "code",
      "metadata": {
        "id": "V8gDejIN1LVZ",
        "colab_type": "code",
        "colab": {}
      },
      "source": [
        "testdata[\"app_code\"] = lable.fit_transform(testdata[\"app_code\"])\n",
        "testdata[\"user_id\"] = lable.fit_transform(testdata[\"user_id\"])\n",
        "testdata[\"os_version\"] = lable.fit_transform(testdata[\"os_version\"])\n",
        "testdata[\"is_4G\"] = lable.fit_transform(testdata[\"is_4G\"])"
      ],
      "execution_count": 0,
      "outputs": []
    },
    {
      "cell_type": "code",
      "metadata": {
        "id": "VxQ_3_Qt6cpW",
        "colab_type": "code",
        "colab": {
          "base_uri": "https://localhost:8080/",
          "height": 206
        },
        "outputId": "ab39347c-d581-4a29-9639-302652845832"
      },
      "source": [
        "test_data_X =testdata.iloc[:,2:]\n",
        "test_data_X.head()"
      ],
      "execution_count": 41,
      "outputs": [
        {
          "output_type": "execute_result",
          "data": {
            "text/html": [
              "<div>\n",
              "<style scoped>\n",
              "    .dataframe tbody tr th:only-of-type {\n",
              "        vertical-align: middle;\n",
              "    }\n",
              "\n",
              "    .dataframe tbody tr th {\n",
              "        vertical-align: top;\n",
              "    }\n",
              "\n",
              "    .dataframe thead th {\n",
              "        text-align: right;\n",
              "    }\n",
              "</style>\n",
              "<table border=\"1\" class=\"dataframe\">\n",
              "  <thead>\n",
              "    <tr style=\"text-align: right;\">\n",
              "      <th></th>\n",
              "      <th>user_id</th>\n",
              "      <th>app_code</th>\n",
              "      <th>os_version</th>\n",
              "      <th>is_4G</th>\n",
              "    </tr>\n",
              "  </thead>\n",
              "  <tbody>\n",
              "    <tr>\n",
              "      <th>0</th>\n",
              "      <td>16423</td>\n",
              "      <td>94</td>\n",
              "      <td>1</td>\n",
              "      <td>1</td>\n",
              "    </tr>\n",
              "    <tr>\n",
              "      <th>1</th>\n",
              "      <td>10858</td>\n",
              "      <td>39</td>\n",
              "      <td>1</td>\n",
              "      <td>0</td>\n",
              "    </tr>\n",
              "    <tr>\n",
              "      <th>2</th>\n",
              "      <td>9213</td>\n",
              "      <td>211</td>\n",
              "      <td>1</td>\n",
              "      <td>1</td>\n",
              "    </tr>\n",
              "    <tr>\n",
              "      <th>3</th>\n",
              "      <td>8391</td>\n",
              "      <td>150</td>\n",
              "      <td>1</td>\n",
              "      <td>1</td>\n",
              "    </tr>\n",
              "    <tr>\n",
              "      <th>4</th>\n",
              "      <td>13031</td>\n",
              "      <td>171</td>\n",
              "      <td>1</td>\n",
              "      <td>1</td>\n",
              "    </tr>\n",
              "  </tbody>\n",
              "</table>\n",
              "</div>"
            ],
            "text/plain": [
              "   user_id  app_code  os_version  is_4G\n",
              "0    16423        94           1      1\n",
              "1    10858        39           1      0\n",
              "2     9213       211           1      1\n",
              "3     8391       150           1      1\n",
              "4    13031       171           1      1"
            ]
          },
          "metadata": {
            "tags": []
          },
          "execution_count": 41
        }
      ]
    },
    {
      "cell_type": "code",
      "metadata": {
        "id": "WEsZFs0U1fzT",
        "colab_type": "code",
        "colab": {}
      },
      "source": [
        "test_data_pred = gb.predict(test_data_X)\n",
        "submission = pd.DataFrame({'impression_id':testdata.iloc[:,0], 'is_click':test_data_pred})\n",
        "submission.to_csv('submission_gb.csv', index=False)"
      ],
      "execution_count": 0,
      "outputs": []
    },
    {
      "cell_type": "code",
      "metadata": {
        "id": "R5lyLecJ2Vo6",
        "colab_type": "code",
        "colab": {}
      },
      "source": [
        ""
      ],
      "execution_count": 0,
      "outputs": []
    }
  ]
}